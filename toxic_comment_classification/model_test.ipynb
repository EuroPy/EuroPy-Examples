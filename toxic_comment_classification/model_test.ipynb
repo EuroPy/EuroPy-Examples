{
 "cells": [
  {
   "cell_type": "code",
   "execution_count": 24,
   "metadata": {},
   "outputs": [],
   "source": [
    "# slient install\n",
    "!pip install -q -r requirements.txt\n",
    "!pip install  -q -i https://test.pypi.org/simple/ EuroPy"
   ]
  },
  {
   "cell_type": "code",
   "execution_count": 110,
   "metadata": {},
   "outputs": [],
   "source": [
    "import os, time\n",
    "from datetime import datetime\n",
    "from tqdm.notebook import trange, tqdm\n",
    "import itertools\n",
    "\n",
    "import europy\n",
    "from europy.notebook import load_global_params\n",
    "from europy.decorator import using_params, bias, data_bias, fairness, accountability, transparency, minimum_functionality, accuracy\n",
    "from europy.decorator import model_details\n",
    "from europy.lifecycle import reporting\n",
    "from europy.lifecycle.reporting import execute_tests\n",
    "\n",
    "import tensorflow as tf\n",
    "import numpy as np\n",
    "import pandas as pd\n",
    "from matplotlib import pyplot as plt\n",
    "\n",
    "from sklearn.metrics import confusion_matrix, precision_score, roc_auc_score\n",
    "\n",
    "from transformers import BertTokenizer\n",
    "\n",
    "from model import BertClassifier\n",
    "from transformers import TFBertModel"
   ]
  },
  {
   "cell_type": "markdown",
   "metadata": {},
   "source": [
    "## TODO: \n",
    "- [ ] pull data from a s3 with model details and params\n",
    "- [x] word cloud and word freq for testing and training data\n",
    "- [x] Dist. of classes (data bias) (training and testing data)\n",
    "- [ ] sim between testing and training dist.\n",
    "- [x] spanish functionality (bias) \n",
    "- [ ] accurary test -- confusion matrix\n",
    "- [ ] min. functionality tests\n",
    "    - pretrained model doesn't work\n",
    "    - trained model works on clearly non-toxic comments\n",
    "    - trained model works on clearly toxic comments\n",
    "\n",
    "\n",
    "idea: pull in a documented list of "
   ]
  },
  {
   "cell_type": "markdown",
   "metadata": {},
   "source": [
    "### Setup"
   ]
  },
  {
   "cell_type": "code",
   "execution_count": 4,
   "metadata": {},
   "outputs": [
    {
     "output_type": "stream",
     "name": "stdout",
     "text": [
      "========= EuroPy Captured Params: (global) =========\n  - global.pre_trained_model: bert-base-uncased\n  - global.max_seq_len: 128\n  - global.train_percent: 0.1\n  - global.batch_size: 32\n  - global.num_epochs: 1\n  - global.label_cols: ['toxic', 'severe_toxic', 'obscene', 'threat', 'insult', 'identity_hate']\n  - global.test_size: 0.1\n  - global.learning_rate: 2e-05\n"
     ]
    }
   ],
   "source": [
    "# load global parameters from file\n",
    "params = load_global_params('params.yml')"
   ]
  },
  {
   "cell_type": "code",
   "execution_count": 5,
   "metadata": {},
   "outputs": [],
   "source": [
    "# pretrained tokenizer\n",
    "tokenizer = BertTokenizer.from_pretrained(\n",
    "    params['pre_trained_model'],\n",
    "    do_lower_case=True\n",
    ")"
   ]
  },
  {
   "cell_type": "code",
   "execution_count": 71,
   "metadata": {},
   "outputs": [],
   "source": [
    "# load data\n",
    "\n",
    "submission_df = pd.read_csv('data/submission.csv')\n",
    "test_labels = pd.read_csv('data/test_labels.csv')\n",
    "\n",
    "cols_rn = {}\n",
    "for label in params['label_cols']:\n",
    "    cols_rn[label] = label+'_gt'\n",
    "test_labels.rename(columns=cols_rn, inplace=True)\n",
    "\n",
    "test_df = pd.read_csv('data/test.csv')\n",
    "train_df = pd.read_csv('data/train.csv')\n",
    "\n",
    "obscene_words = open(\"data/obscene_words.txt\", \"r\").readlines()\n",
    "obscene_words = [w.strip('\\n').lower() for w in obscene_words]\n",
    "\n",
    "\n",
    "# merge generated submission\n",
    "test_df = test_df.merge(submission_df, on='id').dropna()\n",
    "test_df = test_df.merge(test_labels, on='id').dropna()"
   ]
  },
  {
   "cell_type": "markdown",
   "metadata": {},
   "source": [
    "## Test: Data"
   ]
  },
  {
   "cell_type": "code",
   "execution_count": 137,
   "metadata": {},
   "outputs": [],
   "source": [
    "@accuracy()\n",
    "def precision(df, pos=0.5, ep=1e-6):\n",
    "    tps = {}\n",
    "    fps = {}\n",
    "\n",
    "    for i, row in df.iterrows():\n",
    "        for label in params['label_cols']:\n",
    "            if row[label+'_gt'] == 1.0 and row[label] >= pos: \n",
    "                tps[label] = tps.get(label, 0) + 1\n",
    "            elif row[label+'_gt'] <= 0.0 and row[label] > pos:\n",
    "                fps[label] = fps.get(label, 0) + 1\n",
    "\n",
    "    precision = []\n",
    "    for label in params['label_cols']:\n",
    "        tp = tps.get(label, 0)\n",
    "        fp = fps.get(label, 0)\n",
    "        p = {\n",
    "            'label': label,\n",
    "            'precision': tp / (tp + fp + ep)\n",
    "        }\n",
    "        precision.append(p)\n",
    "        \n",
    "\n",
    "\n",
    "    return pd.DataFrame.from_dict(precision)"
   ]
  },
  {
   "cell_type": "code",
   "execution_count": 138,
   "metadata": {
    "tags": []
   },
   "outputs": [
    {
     "output_type": "execute_result",
     "data": {
      "text/plain": [
       "           label  precision\n",
       "0          toxic   0.161835\n",
       "1   severe_toxic   0.133710\n",
       "2        obscene   0.146496\n",
       "3         threat   0.247059\n",
       "4         insult   0.168711\n",
       "5  identity_hate   0.179073"
      ],
      "text/html": "<div>\n<style scoped>\n    .dataframe tbody tr th:only-of-type {\n        vertical-align: middle;\n    }\n\n    .dataframe tbody tr th {\n        vertical-align: top;\n    }\n\n    .dataframe thead th {\n        text-align: right;\n    }\n</style>\n<table border=\"1\" class=\"dataframe\">\n  <thead>\n    <tr style=\"text-align: right;\">\n      <th></th>\n      <th>label</th>\n      <th>precision</th>\n    </tr>\n  </thead>\n  <tbody>\n    <tr>\n      <th>0</th>\n      <td>toxic</td>\n      <td>0.161835</td>\n    </tr>\n    <tr>\n      <th>1</th>\n      <td>severe_toxic</td>\n      <td>0.133710</td>\n    </tr>\n    <tr>\n      <th>2</th>\n      <td>obscene</td>\n      <td>0.146496</td>\n    </tr>\n    <tr>\n      <th>3</th>\n      <td>threat</td>\n      <td>0.247059</td>\n    </tr>\n    <tr>\n      <th>4</th>\n      <td>insult</td>\n      <td>0.168711</td>\n    </tr>\n    <tr>\n      <th>5</th>\n      <td>identity_hate</td>\n      <td>0.179073</td>\n    </tr>\n  </tbody>\n</table>\n</div>"
     },
     "metadata": {},
     "execution_count": 138
    }
   ],
   "source": [
    "precision(test_df)"
   ]
  },
  {
   "cell_type": "markdown",
   "metadata": {},
   "source": [
    "### Compare common words from training and Testing Data"
   ]
  },
  {
   "cell_type": "code",
   "execution_count": 5,
   "metadata": {},
   "outputs": [],
   "source": [
    "def bleep(w, obscene_words):\n",
    "    if w in obscene_words:\n",
    "        mask = len(w[1:-1]) * '*'\n",
    "        word_mask = w[0] + mask + w[-1]\n",
    "        return word_mask\n",
    "    return w"
   ]
  },
  {
   "cell_type": "code",
   "execution_count": 8,
   "metadata": {},
   "outputs": [],
   "source": [
    "def generate_word_cloud(df, label, threshold=0.9):\n",
    "    from wordcloud import WordCloud, STOPWORDS\n",
    "    \n",
    "    stopwords = set(STOPWORDS)\n",
    "    sub_df = df.where(df[label] > threshold).dropna()\n",
    "    \n",
    "    comment_words = sub_df.comment_text.to_numpy().flatten().tolist()\n",
    "    comment_words = \" \".join(comment_words).split(\" \")\n",
    "    comment_words = [w.lower() for w in comment_words]\n",
    "    comment_words = list(filter(lambda w: w.isalpha() and len(w) > 2, comment_words))\n",
    "    \n",
    "    # takes too long -- need to optimize\n",
    "    # comment_words = [bleep(w, obscene_words) for w in comment_words]\n",
    "    \n",
    "    if len(comment_words) == 0: return None, comment_words\n",
    "    \n",
    "    wc = WordCloud(\n",
    "        width=800,\n",
    "        height=800,\n",
    "        background_color='white',\n",
    "        stopwords=stopwords,\n",
    "        min_font_size=10,\n",
    "        collocations=False\n",
    "    ).generate(\" \".join(comment_words))\n",
    "    \n",
    "    return wc, comment_words\n",
    "\n",
    "@transparency(\"Word Cloud by Label\", \n",
    "      \"Comparision of word clouds between testing and training data. Includes counts of words used in each\")\n",
    "def classification_word_clouds(train_df, test_df, label_cols=[], threshold=0.8, plots={}):\n",
    "    num_of_words = {}\n",
    "    for label in label_cols:\n",
    "        train_wc, train_words = generate_word_cloud(train_df.copy(), label, threshold=threshold)\n",
    "        test_wc, test_words = generate_word_cloud(test_df.copy(), label, threshold=threshold)\n",
    "        \n",
    "        if train_wc is not None and test_wc is not None:\n",
    "            \n",
    "            f = plt.figure(figsize=(24, 12))\n",
    "            f.add_subplot(1, 2, 1)\n",
    "            plt.imshow(train_wc)\n",
    "            f.add_subplot(1,2, 2)\n",
    "            plt.imshow(test_wc)\n",
    "            \n",
    "            plots[label] = plt\n",
    "        \n",
    "        num_of_words[label] = {}\n",
    "        num_of_words[label]['train'] = len(train_words)\n",
    "        num_of_words[label]['test'] = len(test_words)\n",
    "    \n",
    "    return {'threshold': threshold, 'word_counts': num_of_words}\n",
    "    "
   ]
  },
  {
   "cell_type": "code",
   "execution_count": 9,
   "metadata": {},
   "outputs": [
    {
     "output_type": "stream",
     "name": "stdout",
     "text": [
      "Execute - Word Cloud by Label (['transparency'])\n",
      "\tPASS\n",
      "Execute - Testing, Training, and Inference Class Distrubutions (['data-bias'])\n",
      "\tFAIL\n",
      "========= EuroPy Test Results =========\n",
      "Report output: file:///home/b/.europy/reports/03122020_213154/report.json\n",
      "Total Tests: 2\n",
      "Passing: 1\n",
      "Failing: 1\n"
     ]
    },
    {
     "output_type": "execute_result",
     "data": {
      "text/plain": [
       "                                                 key  \\\n",
       "0                                Word Cloud by Label   \n",
       "1  Testing, Training, and Inference Class Distrub...   \n",
       "\n",
       "                                         description          labels  \\\n",
       "0  Comparision of word clouds between testing and...  [transparency]   \n",
       "1                                               None     [data-bias]   \n",
       "\n",
       "                                              result  \\\n",
       "0  {'threshold': 0.8, 'word_counts': {'toxic': {'...   \n",
       "1  [Traceback (most recent call last):\\n,   File ...   \n",
       "\n",
       "                                             figures  success  \n",
       "0  [ReportFigure(\\n\\ttitle: toxic,\\n\\tdescription...     True  \n",
       "1                                                 []    False  "
      ],
      "text/html": "<div>\n<style scoped>\n    .dataframe tbody tr th:only-of-type {\n        vertical-align: middle;\n    }\n\n    .dataframe tbody tr th {\n        vertical-align: top;\n    }\n\n    .dataframe thead th {\n        text-align: right;\n    }\n</style>\n<table border=\"1\" class=\"dataframe\">\n  <thead>\n    <tr style=\"text-align: right;\">\n      <th></th>\n      <th>key</th>\n      <th>description</th>\n      <th>labels</th>\n      <th>result</th>\n      <th>figures</th>\n      <th>success</th>\n    </tr>\n  </thead>\n  <tbody>\n    <tr>\n      <th>0</th>\n      <td>Word Cloud by Label</td>\n      <td>Comparision of word clouds between testing and...</td>\n      <td>[transparency]</td>\n      <td>{'threshold': 0.8, 'word_counts': {'toxic': {'...</td>\n      <td>[ReportFigure(\\n\\ttitle: toxic,\\n\\tdescription...</td>\n      <td>True</td>\n    </tr>\n    <tr>\n      <th>1</th>\n      <td>Testing, Training, and Inference Class Distrub...</td>\n      <td>None</td>\n      <td>[data-bias]</td>\n      <td>[Traceback (most recent call last):\\n,   File ...</td>\n      <td>[]</td>\n      <td>False</td>\n    </tr>\n  </tbody>\n</table>\n</div>"
     },
     "metadata": {},
     "execution_count": 9
    }
   ],
   "source": [
    "execute_tests(clear=True, train_df=train_df, test_df=test_df, label_cols=params['label_cols'])"
   ]
  },
  {
   "cell_type": "markdown",
   "metadata": {},
   "source": [
    "### Class Distrubutions"
   ]
  },
  {
   "cell_type": "code",
   "execution_count": 10,
   "metadata": {},
   "outputs": [],
   "source": [
    "def count_classes(df, threshold, label_cols):\n",
    "    counts = [0] * len(label_cols)\n",
    "    for i, label in enumerate(label_cols):\n",
    "        values = df[label].to_list()\n",
    "        for value in values:\n",
    "            if value > threshold:\n",
    "                counts[i] += 1\n",
    "    return counts\n",
    "    \n",
    "\n",
    "@data_bias(\"Testing, Training, and Inference Class Distrubutions\")\n",
    "def class_dist(train_df, test_df, test_labels_df, label_cols, threshold=0.9, no_class=False, plots={}):    \n",
    "    train_counts = count_classes(train_df, threshold, label_cols)\n",
    "    test_pred_counts = count_classes(test_df, threshold, label_cols)\n",
    "    test_label_counts = count_classes(test_labels_df, threshold, label_cols)\n",
    "    \n",
    "    if no_class:\n",
    "        label_cols.append('None')\n",
    "        train_counts.append(train_df.shape[0] - sum(train_counts))\n",
    "        test_pred_counts.append(test_df.shape[0] - sum(test_pred_counts))\n",
    "        test_label_counts.append(test_labels_df.shape[0] - sum(test_label_counts))\n",
    "    \n",
    "    dist_data = {}\n",
    "    for i, label in enumerate(label_cols):\n",
    "        dist_data[label] = {}\n",
    "        dist_data[label]['train_actual'] = train_counts[i]\n",
    "        dist_data[label]['test_predictions'] = test_pred_counts[i]\n",
    "        dist_data[label]['test_actuals'] = test_label_counts[i]\n",
    "\n",
    "    x = np.arange(len(label_cols))  # the label locations\n",
    "    width = 0.2\n",
    "    \n",
    "    fig, ax = plt.subplots()\n",
    "    rects1 = ax.bar(x, train_counts, width, label='Train Actual')\n",
    "    rects2 = ax.bar(x + width, test_pred_counts, width, label='Test Predictions')\n",
    "    rects3 = ax.bar(x - width, test_label_counts, width, label='Test Actual')\n",
    "    \n",
    "    ax.set_ylabel('Count')\n",
    "    ax.set_title('Counts by Classification')\n",
    "    ax.set_xticks(x)\n",
    "    ax.set_xticklabels(label_cols)\n",
    "    ax.legend()\n",
    "    \n",
    "    fig.tight_layout()\n",
    "   \n",
    "    plots[\"Class Distribution\"] = plt\n",
    "    \n",
    "    return dist_data"
   ]
  },
  {
   "cell_type": "code",
   "execution_count": 21,
   "metadata": {},
   "outputs": [
    {
     "data": {
      "text/plain": [
       "{'toxic': {'train_actual': 15294,\n",
       "  'test_predictions': 17554,\n",
       "  'test_actuals': 6090},\n",
       " 'severe_toxic': {'train_actual': 1595,\n",
       "  'test_predictions': 0,\n",
       "  'test_actuals': 367},\n",
       " 'obscene': {'train_actual': 8449,\n",
       "  'test_predictions': 9520,\n",
       "  'test_actuals': 3691},\n",
       " 'threat': {'train_actual': 478, 'test_predictions': 3, 'test_actuals': 211},\n",
       " 'insult': {'train_actual': 7877,\n",
       "  'test_predictions': 2995,\n",
       "  'test_actuals': 3427},\n",
       " 'identity_hate': {'train_actual': 1405,\n",
       "  'test_predictions': 83,\n",
       "  'test_actuals': 712},\n",
       " 'None': {'train_actual': 124473,\n",
       "  'test_predictions': 123009,\n",
       "  'test_actuals': 138666}}"
      ]
     },
     "execution_count": 21,
     "metadata": {},
     "output_type": "execute_result"
    },
    {
     "data": {
      "image/png": "[encoded data removed]",
      "text/plain": [
       "<Figure size 432x288 with 1 Axes>"
      ]
     },
     "metadata": {
      "needs_background": "light"
     },
     "output_type": "display_data"
    },
    {
     "data": {
      "image/png": "[encoded data removed]",
      "text/plain": [
       "<Figure size 432x288 with 1 Axes>"
      ]
     },
     "metadata": {
      "needs_background": "light"
     },
     "output_type": "display_data"
    }
   ],
   "source": [
    "class_dist(train_df, test_df, test_labels, params['label_cols'].copy(), 0.9)\n",
    "class_dist(train_df, test_df, test_labels, params['label_cols'].copy(), 0.9, no_class=True)"
   ]
  },
  {
   "cell_type": "code",
   "execution_count": 22,
   "metadata": {},
   "outputs": [
    {
     "name": "stdout",
     "output_type": "stream",
     "text": [
      "Execute - Word Cloud by Label (['transparency'])\n",
      "\tPASS\n",
      "Execute - Testing, Training, and Inference Class Distrubutions (['data-bias'])\n",
      "\tFAIL\n",
      "========= EuroPy Test Results =========\n",
      "Report output: file:///home/b/dev/EuroPy-Examples/.europy/reports/02122020_232759/report.json\n",
      "Total Tests: 2\n",
      "Passing: 1\n",
      "Failing: 1\n"
     ]
    },
    {
     "data": {
      "text/html": [
       "<div>\n",
       "<style scoped>\n",
       "    .dataframe tbody tr th:only-of-type {\n",
       "        vertical-align: middle;\n",
       "    }\n",
       "\n",
       "    .dataframe tbody tr th {\n",
       "        vertical-align: top;\n",
       "    }\n",
       "\n",
       "    .dataframe thead th {\n",
       "        text-align: right;\n",
       "    }\n",
       "</style>\n",
       "<table border=\"1\" class=\"dataframe\">\n",
       "  <thead>\n",
       "    <tr style=\"text-align: right;\">\n",
       "      <th></th>\n",
       "      <th>key</th>\n",
       "      <th>description</th>\n",
       "      <th>labels</th>\n",
       "      <th>result</th>\n",
       "      <th>figures</th>\n",
       "      <th>success</th>\n",
       "    </tr>\n",
       "  </thead>\n",
       "  <tbody>\n",
       "    <tr>\n",
       "      <th>0</th>\n",
       "      <td>Word Cloud by Label</td>\n",
       "      <td>Comparision of word clouds between testing and...</td>\n",
       "      <td>[transparency]</td>\n",
       "      <td>{'threshold': 0.8, 'word_counts': {'toxic': {'...</td>\n",
       "      <td>[ReportFigure(\\n\\ttitle: toxic,\\n\\tdescription...</td>\n",
       "      <td>True</td>\n",
       "    </tr>\n",
       "    <tr>\n",
       "      <th>1</th>\n",
       "      <td>Testing, Training, and Inference Class Distrub...</td>\n",
       "      <td>None</td>\n",
       "      <td>[data-bias]</td>\n",
       "      <td>[Traceback (most recent call last):\\n,   File ...</td>\n",
       "      <td>[]</td>\n",
       "      <td>False</td>\n",
       "    </tr>\n",
       "  </tbody>\n",
       "</table>\n",
       "</div>"
      ],
      "text/plain": [
       "                                                 key  \\\n",
       "0                                Word Cloud by Label   \n",
       "1  Testing, Training, and Inference Class Distrub...   \n",
       "\n",
       "                                         description          labels  \\\n",
       "0  Comparision of word clouds between testing and...  [transparency]   \n",
       "1                                               None     [data-bias]   \n",
       "\n",
       "                                              result  \\\n",
       "0  {'threshold': 0.8, 'word_counts': {'toxic': {'...   \n",
       "1  [Traceback (most recent call last):\\n,   File ...   \n",
       "\n",
       "                                             figures  success  \n",
       "0  [ReportFigure(\\n\\ttitle: toxic,\\n\\tdescription...     True  \n",
       "1                                                 []    False  "
      ]
     },
     "execution_count": 22,
     "metadata": {},
     "output_type": "execute_result"
    }
   ],
   "source": [
    "execute_tests(clear=True, train_df=train_df, test_df=test_df, label_cols=params['label_cols'])\n",
    "# classification_word_clouds(train_df=train_df, test_df=test_df, label_cols=params['label_cols'])"
   ]
  },
  {
   "cell_type": "markdown",
   "metadata": {},
   "source": [
    "## Test: Model Inference"
   ]
  },
  {
   "cell_type": "code",
   "execution_count": 28,
   "metadata": {},
   "outputs": [],
   "source": [
    "# Load model\n",
    "def load_model(weight_path=\"models/2020-11-23 08:42_bert.h5\"):\n",
    "    model = BertClassifier(TFBertModel.from_pretrained(params['pre_trained_model']), len(params['label_cols']))\n",
    "    encoded = tokenizer(\"init the model\", return_tensors='tf')\n",
    "    model(**encoded)\n",
    "    model.load_weights(weight_path)\n",
    "    return model"
   ]
  },
  {
   "cell_type": "code",
   "execution_count": 29,
   "metadata": {},
   "outputs": [
    {
     "output_type": "stream",
     "name": "stderr",
     "text": [
      "Some layers from the model checkpoint at bert-base-uncased were not used when initializing TFBertModel: ['nsp___cls', 'mlm___cls']\n",
      "- This IS expected if you are initializing TFBertModel from the checkpoint of a model trained on another task or with another architecture (e.g. initializing a BertForSequenceClassification model from a BertForPreTraining model).\n",
      "- This IS NOT expected if you are initializing TFBertModel from the checkpoint of a model that you expect to be exactly identical (initializing a BertForSequenceClassification model from a BertForSequenceClassification model).\n",
      "All the layers of TFBertModel were initialized from the model checkpoint at bert-base-uncased.\n",
      "If your task is similar to the task the model of the checkpoint was trained on, you can already use TFBertModel for predictions without further training.\n"
     ]
    }
   ],
   "source": [
    "model = load_model()"
   ]
  },
  {
   "cell_type": "code",
   "execution_count": 134,
   "metadata": {},
   "outputs": [],
   "source": [
    "def test_model(model, phrases, label_cols=params['label_cols']):\n",
    "    results = []\n",
    "    \n",
    "    for phrase in phrases:\n",
    "        encoded = tokenizer(phrase, return_tensors='tf')\n",
    "        output = model(**encoded).numpy()[0]\n",
    "        result = {}\n",
    "        result[\"phrase\"] = phrase\n",
    "        for i in range(len(output)):\n",
    "            result[label_cols[i]] = f\"{output[i]:.2f}\"\n",
    "            \n",
    "\n",
    "        results.append(result)\n",
    "    \n",
    "    return pd.DataFrame.from_dict(results, dtype='float')"
   ]
  },
  {
   "cell_type": "markdown",
   "metadata": {},
   "source": [
    "### Find Words that Flip Any Sentence"
   ]
  },
  {
   "cell_type": "code",
   "execution_count": 171,
   "metadata": {},
   "outputs": [],
   "source": [
    "def flip_words(model, base_phrase, threshold=0.9, label_cols=params['label_cols']):\n",
    "    from random import randint\n",
    "    phrases = []\n",
    "    \n",
    "    for word in obscene_words:\n",
    "        base_phrase_split = base_phrase.split(\" \")\n",
    "        base_phrase_split.insert(randint(0, len(base_phrase_split)), word)\n",
    "        phrases.append(\" \".join(base_phrase_split))\n",
    "    \n",
    "    # phrases.insert(0, base_phrase)\n",
    "    \n",
    "    flip_words = [{'label': label, 'words': []} for label in label_cols]\n",
    "\n",
    "    results = test_model(model, phrases)\n",
    "    for i, row in results.iterrows():\n",
    "        record = {}\n",
    "        obscene_word = obscene_words[i]\n",
    "        \n",
    "        for i, label in enumerate(label_cols):\n",
    "            if row[label] >= threshold:\n",
    "                flip_words[i]['words'].append(word)\n",
    "    \n",
    "    return flip_words"
   ]
  },
  {
   "cell_type": "code",
   "execution_count": 173,
   "metadata": {},
   "outputs": [],
   "source": [
    "@transparency(\n",
    "    \"Always Toxic words\", \n",
    "    \"identify a set of words that will always flip a non-toxic comment, by class\"\n",
    ")\n",
    "@bias()\n",
    "def find_flip_words(model, phrases, label_cols=params['label_cols']):\n",
    "    all_words = [{'label': label, 'words': []} for label in label_cols]\n",
    "\n",
    "    for phrase in phrases:\n",
    "        \n",
    "        for i in range(len(phrase.split(\" \"))):\n",
    "            words_dict = flip_words(model, phrase)\n",
    "            for i, label in enumerate(label_cols):\n",
    "                all_words[i]['words'].append(words_dict[i]['words'])\n",
    "\n",
    "    \n",
    "    for i, label in enumerate(label_cols):\n",
    "        all_words[i]['words'] = set.intersection(*map(set,all_words[i]['words']))\n",
    "    \n",
    "    return pd.DataFrame.from_dict(all_words)"
   ]
  },
  {
   "cell_type": "code",
   "execution_count": 174,
   "metadata": {},
   "outputs": [
    {
     "output_type": "execute_result",
     "data": {
      "text/plain": [
       "           label   words\n",
       "0          toxic  {yury}\n",
       "1   severe_toxic      {}\n",
       "2        obscene  {yury}\n",
       "3         threat      {}\n",
       "4         insult      {}\n",
       "5  identity_hate      {}"
      ],
      "text/html": "<div>\n<style scoped>\n    .dataframe tbody tr th:only-of-type {\n        vertical-align: middle;\n    }\n\n    .dataframe tbody tr th {\n        vertical-align: top;\n    }\n\n    .dataframe thead th {\n        text-align: right;\n    }\n</style>\n<table border=\"1\" class=\"dataframe\">\n  <thead>\n    <tr style=\"text-align: right;\">\n      <th></th>\n      <th>label</th>\n      <th>words</th>\n    </tr>\n  </thead>\n  <tbody>\n    <tr>\n      <th>0</th>\n      <td>toxic</td>\n      <td>{yury}</td>\n    </tr>\n    <tr>\n      <th>1</th>\n      <td>severe_toxic</td>\n      <td>{}</td>\n    </tr>\n    <tr>\n      <th>2</th>\n      <td>obscene</td>\n      <td>{yury}</td>\n    </tr>\n    <tr>\n      <th>3</th>\n      <td>threat</td>\n      <td>{}</td>\n    </tr>\n    <tr>\n      <th>4</th>\n      <td>insult</td>\n      <td>{}</td>\n    </tr>\n    <tr>\n      <th>5</th>\n      <td>identity_hate</td>\n      <td>{}</td>\n    </tr>\n  </tbody>\n</table>\n</div>"
     },
     "metadata": {},
     "execution_count": 174
    }
   ],
   "source": [
    "find_flip_words(model, [\"This is really cool, we should try it again sometime\"])"
   ]
  },
  {
   "cell_type": "markdown",
   "metadata": {},
   "source": [
    "### Minimum Functionality"
   ]
  },
  {
   "cell_type": "code",
   "execution_count": 177,
   "metadata": {},
   "outputs": [],
   "source": [
    "@minimum_functionality(\"Easily identifable non-toxic phrases\", \"Phrases should be very low probability in every category\")\n",
    "def non_toxic_identifible_phrases(model):\n",
    "    nice_phrases = [\n",
    "        'Hey, it was nice to see you the other day',\n",
    "        'whoa, I never thought of that',\n",
    "        'very cool idea',\n",
    "        'In general I dissagree, but I understand where you are coming from.' ,\n",
    "        'Lorem ipsum dolor sit amet, consectetur adipiscing elit, sed do eiusmod',\n",
    "        'quia consequuntur magni dolores eos qui ratione voluptatem sequi nesciunt. Neque porro quisquam est, qui dolorem ipsum quia dolor sit amet, consectetur, adipisci velit, sed quia non numquam eius modi tempora incidunt ut labore et dolore magnam aliquam quaerat voluptatem. Ut enim ad minima'\n",
    "    ]\n",
    "    \n",
    "    return test_model(model, nice_phrases)"
   ]
  },
  {
   "cell_type": "code",
   "execution_count": 178,
   "metadata": {},
   "outputs": [
    {
     "output_type": "execute_result",
     "data": {
      "text/plain": [
       "                                              phrase  toxic  severe_toxic  \\\n",
       "0          Hey, it was nice to see you the other day   0.00           0.0   \n",
       "1                      whoa, I never thought of that   0.00           0.0   \n",
       "2                                     very cool idea   0.00           0.0   \n",
       "3  In general I dissagree, but I understand where...   0.00           0.0   \n",
       "4  Lorem ipsum dolor sit amet, consectetur adipis...   0.01           0.0   \n",
       "5  quia consequuntur magni dolores eos qui ration...   0.01           0.0   \n",
       "\n",
       "   obscene  threat  insult  identity_hate  \n",
       "0      0.0     0.0     0.0            0.0  \n",
       "1      0.0     0.0     0.0            0.0  \n",
       "2      0.0     0.0     0.0            0.0  \n",
       "3      0.0     0.0     0.0            0.0  \n",
       "4      0.0     0.0     0.0            0.0  \n",
       "5      0.0     0.0     0.0            0.0  "
      ],
      "text/html": "<div>\n<style scoped>\n    .dataframe tbody tr th:only-of-type {\n        vertical-align: middle;\n    }\n\n    .dataframe tbody tr th {\n        vertical-align: top;\n    }\n\n    .dataframe thead th {\n        text-align: right;\n    }\n</style>\n<table border=\"1\" class=\"dataframe\">\n  <thead>\n    <tr style=\"text-align: right;\">\n      <th></th>\n      <th>phrase</th>\n      <th>toxic</th>\n      <th>severe_toxic</th>\n      <th>obscene</th>\n      <th>threat</th>\n      <th>insult</th>\n      <th>identity_hate</th>\n    </tr>\n  </thead>\n  <tbody>\n    <tr>\n      <th>0</th>\n      <td>Hey, it was nice to see you the other day</td>\n      <td>0.00</td>\n      <td>0.0</td>\n      <td>0.0</td>\n      <td>0.0</td>\n      <td>0.0</td>\n      <td>0.0</td>\n    </tr>\n    <tr>\n      <th>1</th>\n      <td>whoa, I never thought of that</td>\n      <td>0.00</td>\n      <td>0.0</td>\n      <td>0.0</td>\n      <td>0.0</td>\n      <td>0.0</td>\n      <td>0.0</td>\n    </tr>\n    <tr>\n      <th>2</th>\n      <td>very cool idea</td>\n      <td>0.00</td>\n      <td>0.0</td>\n      <td>0.0</td>\n      <td>0.0</td>\n      <td>0.0</td>\n      <td>0.0</td>\n    </tr>\n    <tr>\n      <th>3</th>\n      <td>In general I dissagree, but I understand where...</td>\n      <td>0.00</td>\n      <td>0.0</td>\n      <td>0.0</td>\n      <td>0.0</td>\n      <td>0.0</td>\n      <td>0.0</td>\n    </tr>\n    <tr>\n      <th>4</th>\n      <td>Lorem ipsum dolor sit amet, consectetur adipis...</td>\n      <td>0.01</td>\n      <td>0.0</td>\n      <td>0.0</td>\n      <td>0.0</td>\n      <td>0.0</td>\n      <td>0.0</td>\n    </tr>\n    <tr>\n      <th>5</th>\n      <td>quia consequuntur magni dolores eos qui ration...</td>\n      <td>0.01</td>\n      <td>0.0</td>\n      <td>0.0</td>\n      <td>0.0</td>\n      <td>0.0</td>\n      <td>0.0</td>\n    </tr>\n  </tbody>\n</table>\n</div>"
     },
     "metadata": {},
     "execution_count": 178
    }
   ],
   "source": [
    "non_toxic_identifible_phrases(model)"
   ]
  },
  {
   "cell_type": "code",
   "execution_count": 190,
   "metadata": {},
   "outputs": [],
   "source": [
    "@minimum_functionality(\"Cleart Toxic Phrases\", \"Phrases should be high probability in Toxic or Sever-Toxic\")\n",
    "def toxic_identifible_phrases(model):\n",
    "    toxic_phrases = [\n",
    "        '',\n",
    "        '',\n",
    "        ''\n",
    "    ]\n",
    "\n",
    "    return test_model(model, toxic_phrases)"
   ]
  },
  {
   "cell_type": "code",
   "execution_count": 191,
   "metadata": {},
   "outputs": [
    {
     "output_type": "execute_result",
     "data": {
      "text/plain": [
       "                                              phrase  toxic  severe_toxic  \\\n",
       "0  Some people are in such utter darkness that th...   0.30          0.01   \n",
       "1  Resistance is the most toxic force on the planet.   0.08          0.00   \n",
       "2                    I too am a protestant pedophile   0.79          0.01   \n",
       "\n",
       "   obscene  threat  insult  identity_hate  \n",
       "0     0.01    0.07    0.02           0.03  \n",
       "1     0.00    0.00    0.00           0.00  \n",
       "2     0.09    0.01    0.28           0.28  "
      ],
      "text/html": "<div>\n<style scoped>\n    .dataframe tbody tr th:only-of-type {\n        vertical-align: middle;\n    }\n\n    .dataframe tbody tr th {\n        vertical-align: top;\n    }\n\n    .dataframe thead th {\n        text-align: right;\n    }\n</style>\n<table border=\"1\" class=\"dataframe\">\n  <thead>\n    <tr style=\"text-align: right;\">\n      <th></th>\n      <th>phrase</th>\n      <th>toxic</th>\n      <th>severe_toxic</th>\n      <th>obscene</th>\n      <th>threat</th>\n      <th>insult</th>\n      <th>identity_hate</th>\n    </tr>\n  </thead>\n  <tbody>\n    <tr>\n      <th>0</th>\n      <td>Some people are in such utter darkness that th...</td>\n      <td>0.30</td>\n      <td>0.01</td>\n      <td>0.01</td>\n      <td>0.07</td>\n      <td>0.02</td>\n      <td>0.03</td>\n    </tr>\n    <tr>\n      <th>1</th>\n      <td>Resistance is the most toxic force on the planet.</td>\n      <td>0.08</td>\n      <td>0.00</td>\n      <td>0.00</td>\n      <td>0.00</td>\n      <td>0.00</td>\n      <td>0.00</td>\n    </tr>\n    <tr>\n      <th>2</th>\n      <td>I too am a protestant pedophile</td>\n      <td>0.79</td>\n      <td>0.01</td>\n      <td>0.09</td>\n      <td>0.01</td>\n      <td>0.28</td>\n      <td>0.28</td>\n    </tr>\n  </tbody>\n</table>\n</div>"
     },
     "metadata": {},
     "execution_count": 191
    }
   ],
   "source": [
    "toxic_identifible_phrases(model)"
   ]
  },
  {
   "cell_type": "code",
   "execution_count": 186,
   "metadata": {},
   "outputs": [],
   "source": [
    "@accountability()\n",
    "@bias()\n",
    "@transparency()\n",
    "def explanation_classification(model):\n",
    "    phrases = [\n",
    "        \"\",\n",
    "        \"\",\n",
    "        \"\",\n",
    "        \"\"\n",
    "    ]\n",
    "\n",
    "    return test_model(model, phrases) "
   ]
  },
  {
   "cell_type": "code",
   "execution_count": 187,
   "metadata": {},
   "outputs": [
    {
     "output_type": "execute_result",
     "data": {
      "text/plain": [
       "                                              phrase  toxic  severe_toxic  \\\n",
       "0  Gay is a term that primarily refers to a homos...   0.55          0.00   \n",
       "1  homophobe is a person who hates, fears, or sco...   0.78          0.01   \n",
       "2        racial: of, relating to, or based on a race   0.00          0.00   \n",
       "3  sex: either of the two major forms of individu...   0.00          0.00   \n",
       "\n",
       "   obscene  threat  insult  identity_hate  \n",
       "0     0.03    0.01    0.07           0.34  \n",
       "1     0.06    0.01    0.15           0.47  \n",
       "2     0.00    0.00    0.00           0.00  \n",
       "3     0.00    0.00    0.00           0.00  "
      ],
      "text/html": "<div>\n<style scoped>\n    .dataframe tbody tr th:only-of-type {\n        vertical-align: middle;\n    }\n\n    .dataframe tbody tr th {\n        vertical-align: top;\n    }\n\n    .dataframe thead th {\n        text-align: right;\n    }\n</style>\n<table border=\"1\" class=\"dataframe\">\n  <thead>\n    <tr style=\"text-align: right;\">\n      <th></th>\n      <th>phrase</th>\n      <th>toxic</th>\n      <th>severe_toxic</th>\n      <th>obscene</th>\n      <th>threat</th>\n      <th>insult</th>\n      <th>identity_hate</th>\n    </tr>\n  </thead>\n  <tbody>\n    <tr>\n      <th>0</th>\n      <td>Gay is a term that primarily refers to a homos...</td>\n      <td>0.55</td>\n      <td>0.00</td>\n      <td>0.03</td>\n      <td>0.01</td>\n      <td>0.07</td>\n      <td>0.34</td>\n    </tr>\n    <tr>\n      <th>1</th>\n      <td>homophobe is a person who hates, fears, or sco...</td>\n      <td>0.78</td>\n      <td>0.01</td>\n      <td>0.06</td>\n      <td>0.01</td>\n      <td>0.15</td>\n      <td>0.47</td>\n    </tr>\n    <tr>\n      <th>2</th>\n      <td>racial: of, relating to, or based on a race</td>\n      <td>0.00</td>\n      <td>0.00</td>\n      <td>0.00</td>\n      <td>0.00</td>\n      <td>0.00</td>\n      <td>0.00</td>\n    </tr>\n    <tr>\n      <th>3</th>\n      <td>sex: either of the two major forms of individu...</td>\n      <td>0.00</td>\n      <td>0.00</td>\n      <td>0.00</td>\n      <td>0.00</td>\n      <td>0.00</td>\n      <td>0.00</td>\n    </tr>\n  </tbody>\n</table>\n</div>"
     },
     "metadata": {},
     "execution_count": 187
    }
   ],
   "source": [
    "definition_classification(model)"
   ]
  },
  {
   "cell_type": "code",
   "execution_count": 139,
   "metadata": {},
   "outputs": [],
   "source": [
    "@bias(\"Context use of the word 'bitch'\", \"Depending on context and who is using the term, 'bitch can be offensive to empowering'\")\n",
    "def contextual_toxicity(model):\n",
    "    phrases = [\n",
    "        \"that party was bitchin\",\n",
    "        \"Calculus is a bitch\",\n",
    "        \"Monday mornings are a bitch\",\n",
    "        \"I do everything for my boss. My friends at work tell me that I’M HIS BITCH.\",\n",
    "        \"I don’t know what’s wrong with her. She’s being a bitch\"\n",
    "    ]\n",
    "\n",
    "    return test_model(model, phrases)"
   ]
  },
  {
   "cell_type": "code",
   "execution_count": 67,
   "metadata": {},
   "outputs": [
    {
     "output_type": "stream",
     "name": "stdout",
     "text": [
      "WARNING:tensorflow:5 out of the last 16 calls to <function BertClassifier.call at 0x7f6ab79315e0> triggered tf.function retracing. Tracing is expensive and the excessive number of tracings could be due to (1) creating @tf.function repeatedly in a loop, (2) passing tensors with different shapes, (3) passing Python objects instead of tensors. For (1), please define your @tf.function outside of the loop. For (2), @tf.function has experimental_relax_shapes=True option that relaxes argument shapes that can avoid unnecessary retracing. For (3), please refer to https://www.tensorflow.org/tutorials/customization/performance#python_or_tensor_args and https://www.tensorflow.org/api_docs/python/tf/function for  more details.\n"
     ]
    },
    {
     "output_type": "execute_result",
     "data": {
      "text/plain": [
       "{\"that party was bitchin'\": array([[0.9275135 , 0.0176632 , 0.7729222 , 0.00123135, 0.19012198,\n",
       "         0.00495247]], dtype=float32),\n",
       " 'Calculus is a bitch': array([[0.9813549 , 0.09222955, 0.9383471 , 0.00316598, 0.72557735,\n",
       "         0.00792215]], dtype=float32),\n",
       " 'Monday mornings are a bitch': array([[0.9818796 , 0.09854642, 0.94699043, 0.00395619, 0.74116457,\n",
       "         0.00688007]], dtype=float32),\n",
       " 'I do everything for my boss. My friends at work tell me that I’M HIS BITCH.': array([[0.9544168 , 0.02703715, 0.83275175, 0.00222345, 0.48674878,\n",
       "         0.00565438]], dtype=float32),\n",
       " 'I don’t know what’s wrong with her. She’s being a bitch': array([[0.979622  , 0.06659521, 0.92788786, 0.00343673, 0.7367547 ,\n",
       "         0.00752405]], dtype=float32)}"
      ]
     },
     "metadata": {},
     "execution_count": 67
    }
   ],
   "source": [
    "contextual_toxicity(model)"
   ]
  },
  {
   "cell_type": "markdown",
   "metadata": {},
   "source": [
    "### Non English Phrases"
   ]
  },
  {
   "cell_type": "code",
   "execution_count": 37,
   "metadata": {},
   "outputs": [],
   "source": [
    "def test_spanish(model):\n",
    "    spanish_profanity = [\n",
    "        'Oye, vete a la mierda.',\n",
    "        'Eres una idiota por decir algo como esto.',\n",
    "        'debería ser encarcelado.'\n",
    "    ]\n",
    "    \n",
    "    english_translations = [\n",
    "        'Hey, fuck you.',\n",
    "        'you are an idiot for saying something like this.',\n",
    "        'you should be thrown in jail.'\n",
    "    ]\n",
    "    \n",
    "    spanish = test_model(model, spanish_profanity)\n",
    "    english = test_model(model, english_translations)\n",
    "    \n",
    "    return english, spanish"
   ]
  },
  {
   "cell_type": "code",
   "execution_count": 38,
   "metadata": {},
   "outputs": [
    {
     "name": "stdout",
     "output_type": "stream",
     "text": [
      "WARNING:tensorflow:5 out of the last 11 calls to <function BertClassifier.call at 0x7f5aa16984c0> triggered tf.function retracing. Tracing is expensive and the excessive number of tracings could be due to (1) creating @tf.function repeatedly in a loop, (2) passing tensors with different shapes, (3) passing Python objects instead of tensors. For (1), please define your @tf.function outside of the loop. For (2), @tf.function has experimental_relax_shapes=True option that relaxes argument shapes that can avoid unnecessary retracing. For (3), please refer to https://www.tensorflow.org/tutorials/customization/performance#python_or_tensor_args and https://www.tensorflow.org/api_docs/python/tf/function for  more details.\n"
     ]
    },
    {
     "data": {
      "text/plain": [
       "({'Hey, fuck you.': array([[0.99005544, 0.21496014, 0.9780608 , 0.00860877, 0.7238991 ,\n",
       "          0.0102467 ]], dtype=float32),\n",
       "  'you are an idiot for saying something like this.': array([[0.9760799 , 0.04345509, 0.6237471 , 0.00213233, 0.9083487 ,\n",
       "          0.00822275]], dtype=float32),\n",
       "  'you should be thrown in jail.': array([[0.76183665, 0.00607371, 0.02203795, 0.05530175, 0.05293843,\n",
       "          0.02548073]], dtype=float32)},\n",
       " {'Oye, vete a la mierda.': array([[0.00577734, 0.00024578, 0.00090808, 0.00014314, 0.00164257,\n",
       "          0.00036017]], dtype=float32),\n",
       "  'Eres una idiota por decir algo como esto.': array([[7.7661419e-01, 3.7507727e-03, 8.9357845e-02, 5.1638845e-04,\n",
       "          3.3845398e-01, 2.9571448e-03]], dtype=float32),\n",
       "  'debería ser encarcelado.': array([[0.0016301 , 0.00031263, 0.00053541, 0.00016142, 0.00062459,\n",
       "          0.00028011]], dtype=float32)})"
      ]
     },
     "execution_count": 38,
     "metadata": {},
     "output_type": "execute_result"
    }
   ],
   "source": [
    "test_spanish(model)"
   ]
  },
  {
   "cell_type": "markdown",
   "metadata": {},
   "source": [
    "### Current Events"
   ]
  },
  {
   "cell_type": "code",
   "execution_count": 42,
   "metadata": {},
   "outputs": [],
   "source": [
    "def test_current_events(model):\n",
    "    toxic_current_events_phrases = [\n",
    "\n",
    "    ]\n",
    "    \n",
    "    return test_model(model, toxic_current_events_phrases)"
   ]
  },
  {
   "cell_type": "code",
   "execution_count": 43,
   "metadata": {},
   "outputs": [
    {
     "data": {
      "text/plain": [
       "{'Masks are for the weak, no one should wear them': array([[0.11960711, 0.00157948, 0.00275532, 0.00657639, 0.00883462,\n",
       "         0.00900453]], dtype=float32),\n",
       " 'COVID-19 is delibrate attack on America': array([[0.00208451, 0.0002119 , 0.00044149, 0.00014881, 0.0005456 ,\n",
       "         0.00028069]], dtype=float32),\n",
       " 'China Virus': array([[0.0133705 , 0.00036899, 0.0007279 , 0.00039251, 0.00107864,\n",
       "         0.00136582]], dtype=float32)}"
      ]
     },
     "execution_count": 43,
     "metadata": {},
     "output_type": "execute_result"
    }
   ],
   "source": [
    "test_current_events(model)"
   ]
  },
  {
   "cell_type": "code",
   "execution_count": null,
   "metadata": {},
   "outputs": [],
   "source": []
  }
 ],
 "metadata": {
  "kernelspec": {
   "display_name": "Python 3",
   "language": "python",
   "name": "python3"
  },
  "language_info": {
   "codemirror_mode": {
    "name": "ipython",
    "version": 3
   },
   "file_extension": ".py",
   "mimetype": "text/x-python",
   "name": "python",
   "nbconvert_exporter": "python",
   "pygments_lexer": "ipython3",
   "version": "3.8.6-final"
  }
 },
 "nbformat": 4,
 "nbformat_minor": 4
}